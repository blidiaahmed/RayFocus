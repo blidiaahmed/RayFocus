{
 "cells": [
  {
   "cell_type": "code",
   "execution_count": 2,
   "id": "c0b52577",
   "metadata": {},
   "outputs": [
    {
     "name": "stdout",
     "output_type": "stream",
     "text": [
      "The autoreload extension is already loaded. To reload it, use:\n",
      "  %reload_ext autoreload\n",
      "Optimization terminated successfully.\n",
      "         Current function value: 0.000000\n",
      "         Iterations: 1497\n",
      "         Function evaluations: 2182\n"
     ]
    }
   ],
   "source": [
    "%load_ext autoreload\n",
    "%autoreload 2\n",
    "from sympy import *\n",
    "import numpy as np\n",
    "import matplotlib.pyplot as plt\n",
    "from ConeComputations import *\n",
    "from SimpleFunctionBased import *#A,SY,B,R,N,Exp,ExpX,MinimisationExp,Y,X,Bsol,Nsol,BY,NY,Nsol,Ysol,S,res,rosen"
   ]
  },
  {
   "cell_type": "code",
   "execution_count": 3,
   "id": "e92aa3fa",
   "metadata": {
    "scrolled": false
   },
   "outputs": [
    {
     "data": {
      "image/png": "[encoded data removed]",
      "text/plain": [
       "<Figure size 432x288 with 1 Axes>"
      ]
     },
     "metadata": {
      "needs_background": "light"
     },
     "output_type": "display_data"
    }
   ],
   "source": [
    "#ax = plt.axes(autoscale_on=False,xlim= {-2,  2},ylim= {0,  8000})\n",
    "idx=nb\n",
    "ax = plt.axes()#autoscale_on=False,xlim= {X[idx]-width,  X[idx]+width},ylim= {Ysol[idx]-0.1,  Ysol[idx]+1})\n",
    "\n",
    "ax.plot(X,Ysol)\n",
    "norm=sqrt(max(X)**2+max(Ysol)**2)\n",
    "\n",
    "for i in range(len(X)):\n",
    "    ax.arrow(X[i], Ysol[i], float(Nsol[i]&R.x)/float(1+sqrt(int(Nsol[i]&R.x)**2+float( Nsol[i]&R.y)**2)),float( Nsol[i]&R.y)/float(1+sqrt(int(Nsol[i]&R.x)**2+float( Nsol[i]&R.y)**2)))\n",
    "    \n",
    "    reflection=2*(Nsol[i]&S)*Nsol[i]/(Nsol[i]&Nsol[i])-S\n",
    "    #t=2*(NY[i]&S)*NY[i]/(NY[i]&NY[i])-S\n",
    "    reflection/=sqrt(reflection&reflection)\n",
    "    reflection*=norm*1.5\n",
    "    \n",
    "    \n",
    "    #print((t+sqrt(t&t)*S/sqrt(S&S))^Nsol[i])\n",
    "    ax.arrow(X[i], Ysol[i],float(reflection&R.x),float(reflection&R.y),color='red')\n",
    "    #ax.arrow(X[i], Ysol[i],int(S&R.x),int(S&R.y),color='green')"
   ]
  },
  {
   "cell_type": "code",
   "execution_count": null,
   "id": "d786bfd5",
   "metadata": {},
   "outputs": [],
   "source": []
  },
  {
   "cell_type": "code",
   "execution_count": 45,
   "id": "17ee7d1f",
   "metadata": {},
   "outputs": [],
   "source": [
    "X[nb]\n",
    "def ConeAngle(R,r,h):\n",
    "    return 2*pi*sqrt((R+r)**2-h**2)/R+r\n",
    "def a(X1,X2):\n",
    "    return 1/((X2[0]-X1[0])/(X2[1]-X1[1]))\n",
    "def b(X1,X2):\n",
    "    return X2[1]-a(X1,X2)*X2[0]\n",
    "    \n",
    "def VoidRadius(X1,X2):\n",
    "    return sqrt( X1[0]**2+(X1[1]-b(X1,X2))**2)\n",
    "def couroneRadius(X1,X2):\n",
    "    return sqrt((X1[0]-X2[0])**2+(X1[1]-X2[1])**2!)\n",
    "def alpha(X1,X2):\n",
    "    R=VoidRadius(X1,X2)\n",
    "    r=couroneRadius(X1,X2)\n",
    "    h=sqrt((R+r)**2-X2[1]**2)\n",
    "    return 2*pi *sqrt((R+r)**2-h**2)/(R+r)"
   ]
  },
  {
   "cell_type": "code",
   "execution_count": 4,
   "id": "d18734c8",
   "metadata": {},
   "outputs": [
    {
     "ename": "NameError",
     "evalue": "name 'sqrt' is not defined",
     "output_type": "error",
     "traceback": [
      "\u001b[1;31m---------------------------------------------------------------------------\u001b[0m",
      "\u001b[1;31mNameError\u001b[0m                                 Traceback (most recent call last)",
      "\u001b[1;32mC:\\Users\\UTILIS~1\\AppData\\Local\\Temp/ipykernel_15044/1164428052.py\u001b[0m in \u001b[0;36m<module>\u001b[1;34m\u001b[0m\n\u001b[1;32m----> 1\u001b[1;33m \u001b[0malpha\u001b[0m\u001b[1;33m(\u001b[0m\u001b[1;33m[\u001b[0m\u001b[1;36m0\u001b[0m\u001b[1;33m,\u001b[0m\u001b[1;36m0\u001b[0m\u001b[1;33m]\u001b[0m\u001b[1;33m,\u001b[0m\u001b[1;33m[\u001b[0m\u001b[1;36m1\u001b[0m\u001b[1;33m,\u001b[0m\u001b[1;36m1\u001b[0m\u001b[1;33m]\u001b[0m\u001b[1;33m)\u001b[0m\u001b[1;33m\u001b[0m\u001b[1;33m\u001b[0m\u001b[0m\n\u001b[0m",
      "\u001b[1;32m~\\RayFocus\\ConeComputations.py\u001b[0m in \u001b[0;36malpha\u001b[1;34m(X1, X2)\u001b[0m\n\u001b[0;32m     13\u001b[0m     \u001b[1;32mreturn\u001b[0m \u001b[0msqrt\u001b[0m\u001b[1;33m(\u001b[0m\u001b[1;33m(\u001b[0m\u001b[0mX1\u001b[0m\u001b[1;33m[\u001b[0m\u001b[1;36m0\u001b[0m\u001b[1;33m]\u001b[0m\u001b[1;33m-\u001b[0m\u001b[0mX2\u001b[0m\u001b[1;33m[\u001b[0m\u001b[1;36m0\u001b[0m\u001b[1;33m]\u001b[0m\u001b[1;33m)\u001b[0m\u001b[1;33m**\u001b[0m\u001b[1;36m2\u001b[0m\u001b[1;33m+\u001b[0m\u001b[1;33m(\u001b[0m\u001b[0mX1\u001b[0m\u001b[1;33m[\u001b[0m\u001b[1;36m1\u001b[0m\u001b[1;33m]\u001b[0m\u001b[1;33m-\u001b[0m\u001b[0mX2\u001b[0m\u001b[1;33m[\u001b[0m\u001b[1;36m1\u001b[0m\u001b[1;33m]\u001b[0m\u001b[1;33m)\u001b[0m\u001b[1;33m**\u001b[0m\u001b[1;36m2\u001b[0m\u001b[1;33m)\u001b[0m\u001b[1;33m\u001b[0m\u001b[1;33m\u001b[0m\u001b[0m\n\u001b[0;32m     14\u001b[0m \u001b[1;32mdef\u001b[0m \u001b[0malpha\u001b[0m\u001b[1;33m(\u001b[0m\u001b[0mX1\u001b[0m\u001b[1;33m,\u001b[0m\u001b[0mX2\u001b[0m\u001b[1;33m)\u001b[0m\u001b[1;33m:\u001b[0m\u001b[1;33m\u001b[0m\u001b[1;33m\u001b[0m\u001b[0m\n\u001b[1;32m---> 15\u001b[1;33m     \u001b[0mR\u001b[0m\u001b[1;33m=\u001b[0m\u001b[0mVoidRadius\u001b[0m\u001b[1;33m(\u001b[0m\u001b[0mX1\u001b[0m\u001b[1;33m,\u001b[0m\u001b[0mX2\u001b[0m\u001b[1;33m)\u001b[0m\u001b[1;33m\u001b[0m\u001b[1;33m\u001b[0m\u001b[0m\n\u001b[0m\u001b[0;32m     16\u001b[0m     \u001b[0mr\u001b[0m\u001b[1;33m=\u001b[0m\u001b[0mcouroneRadius\u001b[0m\u001b[1;33m(\u001b[0m\u001b[0mX1\u001b[0m\u001b[1;33m,\u001b[0m\u001b[0mX2\u001b[0m\u001b[1;33m)\u001b[0m\u001b[1;33m\u001b[0m\u001b[1;33m\u001b[0m\u001b[0m\n\u001b[0;32m     17\u001b[0m     \u001b[0mh\u001b[0m\u001b[1;33m=\u001b[0m\u001b[0msqrt\u001b[0m\u001b[1;33m(\u001b[0m\u001b[1;33m(\u001b[0m\u001b[0mR\u001b[0m\u001b[1;33m+\u001b[0m\u001b[0mr\u001b[0m\u001b[1;33m)\u001b[0m\u001b[1;33m**\u001b[0m\u001b[1;36m2\u001b[0m\u001b[1;33m-\u001b[0m\u001b[0mX2\u001b[0m\u001b[1;33m[\u001b[0m\u001b[1;36m1\u001b[0m\u001b[1;33m]\u001b[0m\u001b[1;33m**\u001b[0m\u001b[1;36m2\u001b[0m\u001b[1;33m)\u001b[0m\u001b[1;33m\u001b[0m\u001b[1;33m\u001b[0m\u001b[0m\n",
      "\u001b[1;32m~\\RayFocus\\ConeComputations.py\u001b[0m in \u001b[0;36mVoidRadius\u001b[1;34m(X1, X2)\u001b[0m\n\u001b[0;32m      9\u001b[0m \u001b[1;33m\u001b[0m\u001b[0m\n\u001b[0;32m     10\u001b[0m \u001b[1;32mdef\u001b[0m \u001b[0mVoidRadius\u001b[0m\u001b[1;33m(\u001b[0m\u001b[0mX1\u001b[0m\u001b[1;33m,\u001b[0m\u001b[0mX2\u001b[0m\u001b[1;33m)\u001b[0m\u001b[1;33m:\u001b[0m\u001b[1;33m\u001b[0m\u001b[1;33m\u001b[0m\u001b[0m\n\u001b[1;32m---> 11\u001b[1;33m     \u001b[1;32mreturn\u001b[0m \u001b[0msqrt\u001b[0m\u001b[1;33m(\u001b[0m \u001b[0mX1\u001b[0m\u001b[1;33m[\u001b[0m\u001b[1;36m0\u001b[0m\u001b[1;33m]\u001b[0m\u001b[1;33m**\u001b[0m\u001b[1;36m2\u001b[0m\u001b[1;33m+\u001b[0m\u001b[1;33m(\u001b[0m\u001b[0mX1\u001b[0m\u001b[1;33m[\u001b[0m\u001b[1;36m1\u001b[0m\u001b[1;33m]\u001b[0m\u001b[1;33m-\u001b[0m\u001b[0mb\u001b[0m\u001b[1;33m(\u001b[0m\u001b[0mX1\u001b[0m\u001b[1;33m,\u001b[0m\u001b[0mX2\u001b[0m\u001b[1;33m)\u001b[0m\u001b[1;33m)\u001b[0m\u001b[1;33m**\u001b[0m\u001b[1;36m2\u001b[0m\u001b[1;33m)\u001b[0m\u001b[1;33m\u001b[0m\u001b[1;33m\u001b[0m\u001b[0m\n\u001b[0m\u001b[0;32m     12\u001b[0m \u001b[1;32mdef\u001b[0m \u001b[0mcouroneRadius\u001b[0m\u001b[1;33m(\u001b[0m\u001b[0mX1\u001b[0m\u001b[1;33m,\u001b[0m\u001b[0mX2\u001b[0m\u001b[1;33m)\u001b[0m\u001b[1;33m:\u001b[0m\u001b[1;33m\u001b[0m\u001b[1;33m\u001b[0m\u001b[0m\n\u001b[0;32m     13\u001b[0m     \u001b[1;32mreturn\u001b[0m \u001b[0msqrt\u001b[0m\u001b[1;33m(\u001b[0m\u001b[1;33m(\u001b[0m\u001b[0mX1\u001b[0m\u001b[1;33m[\u001b[0m\u001b[1;36m0\u001b[0m\u001b[1;33m]\u001b[0m\u001b[1;33m-\u001b[0m\u001b[0mX2\u001b[0m\u001b[1;33m[\u001b[0m\u001b[1;36m0\u001b[0m\u001b[1;33m]\u001b[0m\u001b[1;33m)\u001b[0m\u001b[1;33m**\u001b[0m\u001b[1;36m2\u001b[0m\u001b[1;33m+\u001b[0m\u001b[1;33m(\u001b[0m\u001b[0mX1\u001b[0m\u001b[1;33m[\u001b[0m\u001b[1;36m1\u001b[0m\u001b[1;33m]\u001b[0m\u001b[1;33m-\u001b[0m\u001b[0mX2\u001b[0m\u001b[1;33m[\u001b[0m\u001b[1;36m1\u001b[0m\u001b[1;33m]\u001b[0m\u001b[1;33m)\u001b[0m\u001b[1;33m**\u001b[0m\u001b[1;36m2\u001b[0m\u001b[1;33m)\u001b[0m\u001b[1;33m\u001b[0m\u001b[1;33m\u001b[0m\u001b[0m\n",
      "\u001b[1;31mNameError\u001b[0m: name 'sqrt' is not defined"
     ]
    }
   ],
   "source": [
    "alpha([0,0],[1,1])"
   ]
  },
  {
   "cell_type": "code",
   "execution_count": null,
   "id": "2adc20f9",
   "metadata": {},
   "outputs": [],
   "source": [
    "ax = plt.axes(autoscale_on=False,xlim= {-2,2},ylim= {0,  5})\n",
    "\n",
    "ax.plot(X,Y)\n",
    "plt.grid()\n",
    "S*=10\n",
    "for i in range(len(X)):#range(int(len(X)/2),int(len(X))):\n",
    "    #ax.arrow(X[i], Y[i], int(NY[i]&R.x)/int(sqrt(int(NY[i]&R.x)**2+int( NY[i]&R.y)**2)),int( NY[i]&R.y)/int(sqrt(int(NY[i]&R.x)**2+int( NY[i]&R.y)**2)))\n",
    "    ax.arrow(X[i], Y[i], float(NY[i]&R.x),float( NY[i]&R.y))\n",
    "    t=2*(NY[i]&S)*NY[i]/(NY[i]&NY[i])-S\n",
    "    t/=sqrt(t&t)/100\n",
    "    ax.arrow(X[i], Y[i],float(t&R.x),float(t&R.y),color='red')\n",
    "    #ax.arrow(X[i], Y[i],int(S&R.x),int(S&R.y),color='green')\n",
    "    \n",
    "    print ((t))"
   ]
  },
  {
   "cell_type": "code",
   "execution_count": 122,
   "id": "fad45a9e",
   "metadata": {},
   "outputs": [
    {
     "data": {
      "text/plain": [
       "0.3125"
      ]
     },
     "execution_count": 122,
     "metadata": {},
     "output_type": "execute_result"
    }
   ],
   "source": [
    "from BezierFunction import *\n",
    "Bezier(2,5,0.5)\n"
   ]
  },
  {
   "cell_type": "code",
   "execution_count": 117,
   "id": "6da22a66",
   "metadata": {},
   "outputs": [
    {
     "data": {
      "text/plain": [
       "9"
      ]
     },
     "execution_count": 117,
     "metadata": {},
     "output_type": "execute_result"
    }
   ],
   "source": [
    "3**2"
   ]
  },
  {
   "cell_type": "code",
   "execution_count": 202,
   "id": "d581d2fe",
   "metadata": {},
   "outputs": [
    {
     "data": {
      "text/plain": [
       "(0,\n",
       " array([ 1652.66103068,   557.29590569,  1728.11171311,  7463.68607783,\n",
       "        16631.52230135]))"
      ]
     },
     "execution_count": 202,
     "metadata": {},
     "output_type": "execute_result"
    }
   ],
   "source": [
    "X[idx],Ysol[idx-1:idx+4]"
   ]
  },
  {
   "cell_type": "code",
   "execution_count": 196,
   "id": "1e02ddc9",
   "metadata": {},
   "outputs": [
    {
     "data": {
      "text/plain": [
       "[<matplotlib.lines.Line2D at 0x2da98ea0c10>]"
      ]
     },
     "execution_count": 196,
     "metadata": {},
     "output_type": "execute_result"
    },
    {
     "data": {
      "image/png": "[encoded data removed]",
      "text/plain": [
       "<Figure size 432x288 with 1 Axes>"
      ]
     },
     "metadata": {
      "needs_background": "light"
     },
     "output_type": "display_data"
    }
   ],
   "source": [
    "plt.plot(X,Ysol)"
   ]
  },
  {
   "cell_type": "code",
   "execution_count": 195,
   "id": "4539da7e",
   "metadata": {},
   "outputs": [
    {
     "data": {
      "text/plain": [
       "array([178594.46627333, 143586.19953734, 114218.9493398 ,  86921.10762127,\n",
       "        64204.75021062,  44381.58082011,  28531.63713277,  15968.8406726 ,\n",
       "         7170.025169  ,   1652.66103068,    557.29590569,   1728.11171311,\n",
       "         7463.68607783,  16631.52230135,  29688.46852841,  46199.70085894,\n",
       "        66827.80932988,  90503.42104839, 118907.29019674, 149486.79469762,\n",
       "       185931.91968781])"
      ]
     },
     "execution_count": 195,
     "metadata": {},
     "output_type": "execute_result"
    }
   ],
   "source": [
    "Ysol"
   ]
  },
  {
   "cell_type": "code",
   "execution_count": 77,
   "id": "83de73d1",
   "metadata": {},
   "outputs": [
    {
     "data": {
      "text/latex": [
       "$\\displaystyle (10 - \\sqrt{\\left(-10 + 10 \\sqrt{2}\\right)^{2} + 200})\\mathbf{\\hat{r}_z}$"
      ],
      "text/plain": [
       "(10 - sqrt((-10 + 10*sqrt(2))**2 + 200))*R.z"
      ]
     },
     "execution_count": 77,
     "metadata": {},
     "output_type": "execute_result"
    }
   ],
   "source": [
    "sqrt(t&t)*S/sqrt(S&S)\n",
    " "
   ]
  },
  {
   "cell_type": "code",
   "execution_count": 72,
   "id": "c2c10a93",
   "metadata": {},
   "outputs": [
    {
     "data": {
      "text/plain": [
       "-35008"
      ]
     },
     "execution_count": 72,
     "metadata": {},
     "output_type": "execute_result"
    }
   ],
   "source": [
    "int(Nsol[i]&R.x)"
   ]
  },
  {
   "cell_type": "code",
   "execution_count": 126,
   "id": "7cc6c8f4",
   "metadata": {},
   "outputs": [
    {
     "data": {
      "text/latex": [
       "$\\displaystyle 0$"
      ],
      "text/plain": [
       "0"
      ]
     },
     "execution_count": 126,
     "metadata": {},
     "output_type": "execute_result"
    },
    {
     "data": {
      "image/png": "[encoded data removed]",
      "text/plain": [
       "<Figure size 432x288 with 1 Axes>"
      ]
     },
     "metadata": {
      "needs_background": "light"
     },
     "output_type": "display_data"
    }
   ],
   "source": [
    "ax = plt.axes(xlim= {-3,  3},ylim= {-3, 3})\n",
    "i=3\n",
    "ax.plot(X,Ysol)\n",
    "NN=R.x+R.y\n",
    "t=2*(NN&S)*NN/(NN&NN)-S\n",
    "ax.arrow(0,0, 1,1)\n",
    "ax.arrow(0,0,int(t&R.x),int(t&R.y),color='red')\n",
    "ax.arrow(0,0,int(S&R.x),int(S&R.y),color='blue')\n",
    "(t+sqrt(t&t)*S/sqrt(S&S))^NN"
   ]
  },
  {
   "cell_type": "code",
   "execution_count": 11,
   "id": "eeadd746",
   "metadata": {},
   "outputs": [
    {
     "data": {
      "text/plain": [
       "(-7, 86921.10762127391, -1.0, -3.9988803135122166e-05)"
      ]
     },
     "execution_count": 11,
     "metadata": {},
     "output_type": "execute_result"
    }
   ],
   "source": [
    "X[i], Ysol[i], int(Nsol[i]&R.x)/int(sqrt(int(Nsol[i]&R.x)**2+int( Nsol[i]&R.y)**2)),int( Nsol[i]&R.y)/int(sqrt(int(Nsol[i]&R.x)**2+int( Nsol[i]&R.y)**2))"
   ]
  },
  {
   "cell_type": "code",
   "execution_count": 176,
   "id": "585bd6cb",
   "metadata": {
    "scrolled": true
   },
   "outputs": [
    {
     "data": {
      "text/plain": [
       "[- 35008.2667359832*R.x - R.y,\n",
       " - 64375.516933531*R.x - 2*R.y,\n",
       " - 56665.0919160708*R.x - 2*R.y,\n",
       " - 50014.1991291805*R.x - 2*R.y,\n",
       " - 42539.5268011656*R.x - 2*R.y,\n",
       " - 35673.113077844*R.x - 2*R.y,\n",
       " - 28412.7401475039*R.x - 2*R.y,\n",
       " - 21361.6119637723*R.x - 2*R.y,\n",
       " - 14316.1796419232*R.x - 2*R.y,\n",
       " - 6612.7292633107*R.x - 2*R.y,\n",
       " 75.4506824285661*R.x - 2*R.y,\n",
       " 6906.39017214508*R.x - 2*R.y,\n",
       " 14903.4105882364*R.x - 2*R.y,\n",
       " 22224.7824505762*R.x - 2*R.y,\n",
       " 29568.178557594*R.x - 2*R.y,\n",
       " 37139.3408014685*R.x - 2*R.y,\n",
       " 44303.7201894466*R.x - 2*R.y,\n",
       " 52079.4808668624*R.x - 2*R.y,\n",
       " 58983.3736492334*R.x - 2*R.y,\n",
       " 67024.6294910682*R.x - 2*R.y,\n",
       " 36445.1249901897*R.x - R.y]"
      ]
     },
     "execution_count": 176,
     "metadata": {},
     "output_type": "execute_result"
    }
   ],
   "source": [
    "[(Bsol[1]-Bsol[0])^R.z]+[(Bsol[i+1]-Bsol[i-1])^R.z for i in range(1,len(X)-1)]+[(Bsol[len(X)-1]-Bsol[len(X)-2])^R.z]"
   ]
  }
 ],
 "metadata": {
  "kernelspec": {
   "display_name": "Python 3 (ipykernel)",
   "language": "python",
   "name": "python3"
  },
  "language_info": {
   "codemirror_mode": {
    "name": "ipython",
    "version": 3
   },
   "file_extension": ".py",
   "mimetype": "text/x-python",
   "name": "python",
   "nbconvert_exporter": "python",
   "pygments_lexer": "ipython3",
   "version": "3.9.5"
  }
 },
 "nbformat": 4,
 "nbformat_minor": 5
}
