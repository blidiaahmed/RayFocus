{
 "cells": [
  {
   "cell_type": "code",
   "execution_count": 106,
   "id": "de3ef901",
   "metadata": {},
   "outputs": [
    {
     "name": "stdout",
     "output_type": "stream",
     "text": [
      "Optimization terminated successfully.\n",
      "         Current function value: 0.001372\n",
      "         Iterations: 39971\n",
      "         Function evaluations: 50135\n",
      "The autoreload extension is already loaded. To reload it, use:\n",
      "  %reload_ext autoreload\n"
     ]
    }
   ],
   "source": [
    "%load_ext autoreload\n",
    "%autoreload 2\n",
    "from sympy import *\n",
    "import numpy as np\n",
    "import matplotlib.pyplot as plt\n",
    "\n",
    "from SimpleFunctionBased import *#A,SY,B,R,N,Exp,ExpX,MinimisationExp,Y,X,Bsol,Nsol,BY,NY,Nsol,Ysol,S,res,rosen"
   ]
  },
  {
   "cell_type": "code",
   "execution_count": 108,
   "id": "c5ef3644",
   "metadata": {
    "scrolled": false
   },
   "outputs": [
    {
     "data": {
      "image/png": "[encoded data removed]",
      "text/plain": [
       "<Figure size 432x288 with 1 Axes>"
      ]
     },
     "metadata": {
      "needs_background": "light"
     },
     "output_type": "display_data"
    }
   ],
   "source": [
    "#ax = plt.axes(autoscale_on=False,xlim= {-2,  2},ylim= {0,  8000})\n",
    "idx=nb\n",
    "ax = plt.axes(autoscale_on=False,xlim= {X[idx]-width,  X[idx]+width},ylim= {Ysol[idx]-0.1,  Ysol[idx]+1})\n",
    "\n",
    "ax.plot(X,Ysol)\n",
    "norm=sqrt(max(X)**2+max(Ysol)**2)\n",
    "\n",
    "for i in range(len(X)):\n",
    "    ax.arrow(X[i], Ysol[i], float(Nsol[i]&R.x)/float(1+sqrt(int(Nsol[i]&R.x)**2+float( Nsol[i]&R.y)**2)),float( Nsol[i]&R.y)/float(1+sqrt(int(Nsol[i]&R.x)**2+float( Nsol[i]&R.y)**2)))\n",
    "    \n",
    "    reflection=2*(Nsol[i]&S)*Nsol[i]/(Nsol[i]&Nsol[i])-S\n",
    "    #t=2*(NY[i]&S)*NY[i]/(NY[i]&NY[i])-S\n",
    "    reflection/=sqrt(reflection&reflection)\n",
    "    reflection*=norm*width*2\n",
    "    \n",
    "    \n",
    "    #print((t+sqrt(t&t)*S/sqrt(S&S))^Nsol[i])\n",
    "    ax.arrow(X[i], Ysol[i],float(reflection&R.x),float(reflection&R.y),color='red')\n",
    "    #ax.arrow(X[i], Ysol[i],int(S&R.x),int(S&R.y),color='green')"
   ]
  },
  {
   "cell_type": "code",
   "execution_count": 84,
   "id": "acf21859",
   "metadata": {},
   "outputs": [
    {
     "data": {
      "text/plain": [
       "array([0.05243176, 0.04744319, 0.04338213, 0.03944639, 0.03633795,\n",
       "       0.03345505, 0.03129922, 0.0294692 , 0.02826595, 0.02748881,\n",
       "       0.02723813, 0.02751388, 0.02821579, 0.02954444, 0.03119891,\n",
       "       0.03358044, 0.0361875 , 0.03962188, 0.04318158, 0.04766878])"
      ]
     },
     "execution_count": 84,
     "metadata": {},
     "output_type": "execute_result"
    }
   ],
   "source": [
    "Ysol"
   ]
  },
  {
   "cell_type": "code",
   "execution_count": null,
   "id": "dfc32218",
   "metadata": {},
   "outputs": [],
   "source": [
    "ax = plt.axes(autoscale_on=False,xlim= {-2,2},ylim= {0,  5})\n",
    "\n",
    "ax.plot(X,Y)\n",
    "plt.grid()\n",
    "S*=10\n",
    "for i in range(len(X)):#range(int(len(X)/2),int(len(X))):\n",
    "    #ax.arrow(X[i], Y[i], int(NY[i]&R.x)/int(sqrt(int(NY[i]&R.x)**2+int( NY[i]&R.y)**2)),int( NY[i]&R.y)/int(sqrt(int(NY[i]&R.x)**2+int( NY[i]&R.y)**2)))\n",
    "    ax.arrow(X[i], Y[i], float(NY[i]&R.x),float( NY[i]&R.y))\n",
    "    t=2*(NY[i]&S)*NY[i]/(NY[i]&NY[i])-S\n",
    "    t/=sqrt(t&t)/100\n",
    "    ax.arrow(X[i], Y[i],float(t&R.x),float(t&R.y),color='red')\n",
    "    #ax.arrow(X[i], Y[i],int(S&R.x),int(S&R.y),color='green')\n",
    "    \n",
    "    print ((t))"
   ]
  },
  {
   "cell_type": "code",
   "execution_count": 57,
   "id": "f27ce74e",
   "metadata": {},
   "outputs": [
    {
     "data": {
      "text/plain": [
       "[-1.0,\n",
       " -0.975,\n",
       " -0.95,\n",
       " -0.925,\n",
       " -0.9,\n",
       " -0.875,\n",
       " -0.85,\n",
       " -0.825,\n",
       " -0.8,\n",
       " -0.775,\n",
       " -0.75,\n",
       " -0.725,\n",
       " -0.7,\n",
       " -0.675,\n",
       " -0.65,\n",
       " -0.625,\n",
       " -0.6,\n",
       " -0.575,\n",
       " -0.55,\n",
       " -0.525,\n",
       " -0.5,\n",
       " -0.475,\n",
       " -0.45,\n",
       " -0.425,\n",
       " -0.4,\n",
       " -0.375,\n",
       " -0.35,\n",
       " -0.325,\n",
       " -0.3,\n",
       " -0.275,\n",
       " -0.25,\n",
       " -0.225,\n",
       " -0.2,\n",
       " -0.175,\n",
       " -0.15,\n",
       " -0.125,\n",
       " -0.1,\n",
       " -0.075,\n",
       " -0.05,\n",
       " -0.025,\n",
       " 0.0,\n",
       " 0.025,\n",
       " 0.05,\n",
       " 0.075,\n",
       " 0.1,\n",
       " 0.125,\n",
       " 0.15,\n",
       " 0.175,\n",
       " 0.2,\n",
       " 0.225,\n",
       " 0.25,\n",
       " 0.275,\n",
       " 0.3,\n",
       " 0.325,\n",
       " 0.35,\n",
       " 0.375,\n",
       " 0.4,\n",
       " 0.425,\n",
       " 0.45,\n",
       " 0.475,\n",
       " 0.5,\n",
       " 0.525,\n",
       " 0.55,\n",
       " 0.575,\n",
       " 0.6,\n",
       " 0.625,\n",
       " 0.65,\n",
       " 0.675,\n",
       " 0.7,\n",
       " 0.725,\n",
       " 0.75,\n",
       " 0.775,\n",
       " 0.8,\n",
       " 0.825,\n",
       " 0.85,\n",
       " 0.875,\n",
       " 0.9,\n",
       " 0.925,\n",
       " 0.95,\n",
       " 0.975]"
      ]
     },
     "execution_count": 57,
     "metadata": {},
     "output_type": "execute_result"
    }
   ],
   "source": [
    "nb=40\n",
    "X=[i for i in range(-nb,nb)]\n",
    "X=[i/nb for  i in X]\n",
    "X"
   ]
  },
  {
   "cell_type": "code",
   "execution_count": 202,
   "id": "42cc9e30",
   "metadata": {},
   "outputs": [
    {
     "data": {
      "text/plain": [
       "(0,\n",
       " array([ 1652.66103068,   557.29590569,  1728.11171311,  7463.68607783,\n",
       "        16631.52230135]))"
      ]
     },
     "execution_count": 202,
     "metadata": {},
     "output_type": "execute_result"
    }
   ],
   "source": [
    "X[idx],Ysol[idx-1:idx+4]"
   ]
  },
  {
   "cell_type": "code",
   "execution_count": 196,
   "id": "27565b81",
   "metadata": {},
   "outputs": [
    {
     "data": {
      "text/plain": [
       "[<matplotlib.lines.Line2D at 0x2da98ea0c10>]"
      ]
     },
     "execution_count": 196,
     "metadata": {},
     "output_type": "execute_result"
    },
    {
     "data": {
      "image/png": "[encoded data removed]",
      "text/plain": [
       "<Figure size 432x288 with 1 Axes>"
      ]
     },
     "metadata": {
      "needs_background": "light"
     },
     "output_type": "display_data"
    }
   ],
   "source": [
    "plt.plot(X,Ysol)"
   ]
  },
  {
   "cell_type": "code",
   "execution_count": 195,
   "id": "c87112ed",
   "metadata": {},
   "outputs": [
    {
     "data": {
      "text/plain": [
       "array([178594.46627333, 143586.19953734, 114218.9493398 ,  86921.10762127,\n",
       "        64204.75021062,  44381.58082011,  28531.63713277,  15968.8406726 ,\n",
       "         7170.025169  ,   1652.66103068,    557.29590569,   1728.11171311,\n",
       "         7463.68607783,  16631.52230135,  29688.46852841,  46199.70085894,\n",
       "        66827.80932988,  90503.42104839, 118907.29019674, 149486.79469762,\n",
       "       185931.91968781])"
      ]
     },
     "execution_count": 195,
     "metadata": {},
     "output_type": "execute_result"
    }
   ],
   "source": [
    "Ysol"
   ]
  },
  {
   "cell_type": "code",
   "execution_count": 77,
   "id": "74f6b838",
   "metadata": {},
   "outputs": [
    {
     "data": {
      "text/latex": [
       "$\\displaystyle (10 - \\sqrt{\\left(-10 + 10 \\sqrt{2}\\right)^{2} + 200})\\mathbf{\\hat{r}_z}$"
      ],
      "text/plain": [
       "(10 - sqrt((-10 + 10*sqrt(2))**2 + 200))*R.z"
      ]
     },
     "execution_count": 77,
     "metadata": {},
     "output_type": "execute_result"
    }
   ],
   "source": [
    "sqrt(t&t)*S/sqrt(S&S)\n",
    " "
   ]
  },
  {
   "cell_type": "code",
   "execution_count": 72,
   "id": "019e4427",
   "metadata": {},
   "outputs": [
    {
     "data": {
      "text/plain": [
       "-35008"
      ]
     },
     "execution_count": 72,
     "metadata": {},
     "output_type": "execute_result"
    }
   ],
   "source": [
    "int(Nsol[i]&R.x)"
   ]
  },
  {
   "cell_type": "code",
   "execution_count": 126,
   "id": "630f0428",
   "metadata": {},
   "outputs": [
    {
     "data": {
      "text/latex": [
       "$\\displaystyle 0$"
      ],
      "text/plain": [
       "0"
      ]
     },
     "execution_count": 126,
     "metadata": {},
     "output_type": "execute_result"
    },
    {
     "data": {
      "image/png": "[encoded data removed]",
      "text/plain": [
       "<Figure size 432x288 with 1 Axes>"
      ]
     },
     "metadata": {
      "needs_background": "light"
     },
     "output_type": "display_data"
    }
   ],
   "source": [
    "ax = plt.axes(xlim= {-3,  3},ylim= {-3, 3})\n",
    "i=3\n",
    "ax.plot(X,Ysol)\n",
    "NN=R.x+R.y\n",
    "t=2*(NN&S)*NN/(NN&NN)-S\n",
    "ax.arrow(0,0, 1,1)\n",
    "ax.arrow(0,0,int(t&R.x),int(t&R.y),color='red')\n",
    "ax.arrow(0,0,int(S&R.x),int(S&R.y),color='blue')\n",
    "(t+sqrt(t&t)*S/sqrt(S&S))^NN"
   ]
  },
  {
   "cell_type": "code",
   "execution_count": 11,
   "id": "32d71fbb",
   "metadata": {},
   "outputs": [
    {
     "data": {
      "text/plain": [
       "(-7, 86921.10762127391, -1.0, -3.9988803135122166e-05)"
      ]
     },
     "execution_count": 11,
     "metadata": {},
     "output_type": "execute_result"
    }
   ],
   "source": [
    "X[i], Ysol[i], int(Nsol[i]&R.x)/int(sqrt(int(Nsol[i]&R.x)**2+int( Nsol[i]&R.y)**2)),int( Nsol[i]&R.y)/int(sqrt(int(Nsol[i]&R.x)**2+int( Nsol[i]&R.y)**2))"
   ]
  },
  {
   "cell_type": "code",
   "execution_count": 176,
   "id": "3408ed20",
   "metadata": {
    "scrolled": true
   },
   "outputs": [
    {
     "data": {
      "text/plain": [
       "[- 35008.2667359832*R.x - R.y,\n",
       " - 64375.516933531*R.x - 2*R.y,\n",
       " - 56665.0919160708*R.x - 2*R.y,\n",
       " - 50014.1991291805*R.x - 2*R.y,\n",
       " - 42539.5268011656*R.x - 2*R.y,\n",
       " - 35673.113077844*R.x - 2*R.y,\n",
       " - 28412.7401475039*R.x - 2*R.y,\n",
       " - 21361.6119637723*R.x - 2*R.y,\n",
       " - 14316.1796419232*R.x - 2*R.y,\n",
       " - 6612.7292633107*R.x - 2*R.y,\n",
       " 75.4506824285661*R.x - 2*R.y,\n",
       " 6906.39017214508*R.x - 2*R.y,\n",
       " 14903.4105882364*R.x - 2*R.y,\n",
       " 22224.7824505762*R.x - 2*R.y,\n",
       " 29568.178557594*R.x - 2*R.y,\n",
       " 37139.3408014685*R.x - 2*R.y,\n",
       " 44303.7201894466*R.x - 2*R.y,\n",
       " 52079.4808668624*R.x - 2*R.y,\n",
       " 58983.3736492334*R.x - 2*R.y,\n",
       " 67024.6294910682*R.x - 2*R.y,\n",
       " 36445.1249901897*R.x - R.y]"
      ]
     },
     "execution_count": 176,
     "metadata": {},
     "output_type": "execute_result"
    }
   ],
   "source": [
    "[(Bsol[1]-Bsol[0])^R.z]+[(Bsol[i+1]-Bsol[i-1])^R.z for i in range(1,len(X)-1)]+[(Bsol[len(X)-1]-Bsol[len(X)-2])^R.z]"
   ]
  }
 ],
 "metadata": {
  "kernelspec": {
   "display_name": "Python 3 (ipykernel)",
   "language": "python",
   "name": "python3"
  },
  "language_info": {
   "codemirror_mode": {
    "name": "ipython",
    "version": 3
   },
   "file_extension": ".py",
   "mimetype": "text/x-python",
   "name": "python",
   "nbconvert_exporter": "python",
   "pygments_lexer": "ipython3",
   "version": "3.9.5"
  }
 },
 "nbformat": 4,
 "nbformat_minor": 5
}
