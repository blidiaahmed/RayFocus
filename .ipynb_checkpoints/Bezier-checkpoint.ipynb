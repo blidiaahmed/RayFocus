{
 "cells": [
  {
   "cell_type": "code",
   "execution_count": 15,
   "id": "a2924a44",
   "metadata": {},
   "outputs": [
    {
     "name": "stdout",
     "output_type": "stream",
     "text": [
      "The autoreload extension is already loaded. To reload it, use:\n",
      "  %reload_ext autoreload\n"
     ]
    }
   ],
   "source": [
    "%load_ext autoreload\n",
    "%autoreload 2\n",
    "from sympy import *\n",
    "import numpy as np\n",
    "import matplotlib.pyplot as plt\n",
    "\n",
    "from UsingBezierFunctions import *#A,SY,B,R,N,Exp,ExpX,MinimisationExp,Y,X,Bsol,Nsol,BY,NY,Nsol,Ysol,S,res,rosen"
   ]
  },
  {
   "cell_type": "code",
   "execution_count": 16,
   "id": "3d585463",
   "metadata": {},
   "outputs": [
    {
     "ename": "IndexError",
     "evalue": "list index out of range",
     "output_type": "error",
     "traceback": [
      "\u001b[1;31m---------------------------------------------------------------------------\u001b[0m",
      "\u001b[1;31mIndexError\u001b[0m                                Traceback (most recent call last)",
      "\u001b[1;32mC:\\Users\\UTILIS~1\\AppData\\Local\\Temp/ipykernel_8504/1199460925.py\u001b[0m in \u001b[0;36m<module>\u001b[1;34m\u001b[0m\n\u001b[0;32m      1\u001b[0m \u001b[1;31m#ax = plt.axes(autoscale_on=False,xlim= {-2,  2},ylim= {0,  8000})\u001b[0m\u001b[1;33m\u001b[0m\u001b[1;33m\u001b[0m\u001b[1;33m\u001b[0m\u001b[0m\n\u001b[0;32m      2\u001b[0m \u001b[0midx\u001b[0m\u001b[1;33m=\u001b[0m\u001b[0mnb\u001b[0m\u001b[1;33m\u001b[0m\u001b[1;33m\u001b[0m\u001b[0m\n\u001b[1;32m----> 3\u001b[1;33m \u001b[0max\u001b[0m \u001b[1;33m=\u001b[0m \u001b[0mplt\u001b[0m\u001b[1;33m.\u001b[0m\u001b[0maxes\u001b[0m\u001b[1;33m(\u001b[0m\u001b[0mautoscale_on\u001b[0m\u001b[1;33m=\u001b[0m\u001b[1;32mFalse\u001b[0m\u001b[1;33m,\u001b[0m\u001b[0mxlim\u001b[0m\u001b[1;33m=\u001b[0m \u001b[1;33m{\u001b[0m\u001b[0mX\u001b[0m\u001b[1;33m[\u001b[0m\u001b[0midx\u001b[0m\u001b[1;33m]\u001b[0m\u001b[1;33m-\u001b[0m\u001b[0mwidth\u001b[0m\u001b[1;33m,\u001b[0m  \u001b[0mX\u001b[0m\u001b[1;33m[\u001b[0m\u001b[0midx\u001b[0m\u001b[1;33m]\u001b[0m\u001b[1;33m+\u001b[0m\u001b[0mwidth\u001b[0m\u001b[1;33m}\u001b[0m\u001b[1;33m,\u001b[0m\u001b[0mylim\u001b[0m\u001b[1;33m=\u001b[0m \u001b[1;33m{\u001b[0m\u001b[0mYsol\u001b[0m\u001b[1;33m[\u001b[0m\u001b[0midx\u001b[0m\u001b[1;33m]\u001b[0m\u001b[1;33m-\u001b[0m\u001b[1;36m0.1\u001b[0m\u001b[1;33m,\u001b[0m  \u001b[0mYsol\u001b[0m\u001b[1;33m[\u001b[0m\u001b[0midx\u001b[0m\u001b[1;33m]\u001b[0m\u001b[1;33m+\u001b[0m\u001b[1;36m1\u001b[0m\u001b[1;33m}\u001b[0m\u001b[1;33m)\u001b[0m\u001b[1;33m\u001b[0m\u001b[1;33m\u001b[0m\u001b[0m\n\u001b[0m\u001b[0;32m      4\u001b[0m \u001b[1;33m\u001b[0m\u001b[0m\n\u001b[0;32m      5\u001b[0m \u001b[0max\u001b[0m\u001b[1;33m.\u001b[0m\u001b[0mplot\u001b[0m\u001b[1;33m(\u001b[0m\u001b[0mX\u001b[0m\u001b[1;33m,\u001b[0m\u001b[0mYsol\u001b[0m\u001b[1;33m)\u001b[0m\u001b[1;33m\u001b[0m\u001b[1;33m\u001b[0m\u001b[0m\n",
      "\u001b[1;31mIndexError\u001b[0m: list index out of range"
     ]
    }
   ],
   "source": [
    "#ax = plt.axes(autoscale_on=False,xlim= {-2,  2},ylim= {0,  8000})\n",
    "idx=nb-1\n",
    "ax = plt.axes(autoscale_on=False,xlim= {X[idx]-width,  X[idx]+width},ylim= {Ysol[idx]-0.1,  Ysol[idx]+1})\n",
    "\n",
    "ax.plot(X,Ysol)\n",
    "norm=sqrt(max(X)**2+max(Ysol)**2)\n",
    "\n",
    "for i in range(len(X)):\n",
    "    ax.arrow(X[i], Ysol[i], float(Nsol[i]&R.x)/float(1+sqrt(int(Nsol[i]&R.x)**2+float( Nsol[i]&R.y)**2)),float( Nsol[i]&R.y)/float(1+sqrt(int(Nsol[i]&R.x)**2+float( Nsol[i]&R.y)**2)))\n",
    "    \n",
    "    reflection=2*(Nsol[i]&S)*Nsol[i]/(Nsol[i]&Nsol[i])-S\n",
    "    #t=2*(NY[i]&S)*NY[i]/(NY[i]&NY[i])-S\n",
    "    reflection/=sqrt(reflection&reflection)\n",
    "    reflection*=norm*width*2\n",
    "    \n",
    "    \n",
    "    #print((t+sqrt(t&t)*S/sqrt(S&S))^Nsol[i])\n",
    "    ax.arrow(X[i], Ysol[i],float(reflection&R.x),float(reflection&R.y),color='red')\n",
    "    #ax.arrow(X[i], Ysol[i],int(S&R.x),int(S&R.y),color='green')"
   ]
  }
 ],
 "metadata": {
  "kernelspec": {
   "display_name": "Python 3 (ipykernel)",
   "language": "python",
   "name": "python3"
  },
  "language_info": {
   "codemirror_mode": {
    "name": "ipython",
    "version": 3
   },
   "file_extension": ".py",
   "mimetype": "text/x-python",
   "name": "python",
   "nbconvert_exporter": "python",
   "pygments_lexer": "ipython3",
   "version": "3.9.5"
  }
 },
 "nbformat": 4,
 "nbformat_minor": 5
}
