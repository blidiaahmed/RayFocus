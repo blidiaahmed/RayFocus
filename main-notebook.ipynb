{
 "cells": [
  {
   "cell_type": "code",
   "execution_count": 75,
   "id": "c0b52577",
   "metadata": {},
   "outputs": [
    {
     "name": "stdout",
     "output_type": "stream",
     "text": [
      "Optimization terminated successfully.\n",
      "         Current function value: 0.000000\n",
      "         Iterations: 5959\n",
      "         Function evaluations: 7994\n",
      "The autoreload extension is already loaded. To reload it, use:\n",
      "  %reload_ext autoreload\n"
     ]
    }
   ],
   "source": [
    "%load_ext autoreload\n",
    "%autoreload 2\n",
    "from sympy import *\n",
    "import numpy as np\n",
    "import matplotlib.pyplot as plt\n",
    "\n",
    "from SimpleFunctionBased import *#A,SY,B,R,N,Exp,ExpX,MinimisationExp,Y,X,Bsol,Nsol,BY,NY,Nsol,Ysol,S,res,rosen\n"
   ]
  },
  {
   "cell_type": "code",
   "execution_count": 76,
   "id": "e92aa3fa",
   "metadata": {
    "scrolled": true
   },
   "outputs": [
    {
     "data": {
      "image/png": "[encoded data removed]",
      "text/plain": [
       "<Figure size 432x288 with 1 Axes>"
      ]
     },
     "metadata": {
      "needs_background": "light"
     },
     "output_type": "display_data"
    }
   ],
   "source": [
    "#ax = plt.axes(autoscale_on=False,xlim= {-2,  2},ylim= {0,  8000})\n",
    "idx=nb\n",
    "ax = plt.axes()#autoscale_on=False,xlim= {X[idx]-width,  X[idx]+width},ylim= {Ysol[idx]-0.1,  Ysol[idx]+1})\n",
    "\n",
    "ax.plot(X,Ysol)\n",
    "norm=sqrt(max(X)**2+max(Ysol)**2)\n",
    "\n",
    "for i in range(len(X)):\n",
    "    ax.arrow(X[i], Ysol[i], float(Nsol[i]&R.x)/float(1+sqrt(int(Nsol[i]&R.x)**2+float( Nsol[i]&R.y)**2)),float( Nsol[i]&R.y)/float(1+sqrt(int(Nsol[i]&R.x)**2+float( Nsol[i]&R.y)**2)))\n",
    "    \n",
    "    reflection=2*(Nsol[i]&S)*Nsol[i]/(Nsol[i]&Nsol[i])-S\n",
    "    #t=2*(NY[i]&S)*NY[i]/(NY[i]&NY[i])-S\n",
    "    reflection/=sqrt(reflection&reflection)\n",
    "    reflection*=norm*3\n",
    "    \n",
    "    \n",
    "    #print((t+sqrt(t&t)*S/sqrt(S&S))^Nsol[i])\n",
    "   # ax.arrow(X[i], Ysol[i],float(reflection&R.x),float(reflection&R.y),color='red')\n",
    "    #ax.arrow(X[i], Ysol[i],int(S&R.x),int(S&R.y),color='green')"
   ]
  },
  {
   "cell_type": "code",
   "execution_count": 5,
   "id": "eb59cbed",
   "metadata": {},
   "outputs": [
    {
     "data": {
      "text/plain": [
       "[-7.5, -5.625, -3.75, -1.875, 0.0, 1.875, 3.75, 5.625, 7.5]"
      ]
     },
     "execution_count": 5,
     "metadata": {},
     "output_type": "execute_result"
    }
   ],
   "source": [
    "X"
   ]
  },
  {
   "cell_type": "code",
   "execution_count": 77,
   "id": "9fbe8b58",
   "metadata": {},
   "outputs": [
    {
     "data": {
      "text/html": [
       "<div>\n",
       "<style scoped>\n",
       "    .dataframe tbody tr th:only-of-type {\n",
       "        vertical-align: middle;\n",
       "    }\n",
       "\n",
       "    .dataframe tbody tr th {\n",
       "        vertical-align: top;\n",
       "    }\n",
       "\n",
       "    .dataframe thead th {\n",
       "        text-align: right;\n",
       "    }\n",
       "</style>\n",
       "<table border=\"1\" class=\"dataframe\">\n",
       "  <thead>\n",
       "    <tr style=\"text-align: right;\">\n",
       "      <th></th>\n",
       "      <th>X1</th>\n",
       "      <th>X2</th>\n",
       "      <th>alpha</th>\n",
       "      <th>VoidRadius</th>\n",
       "      <th>couroneRadius</th>\n",
       "    </tr>\n",
       "  </thead>\n",
       "  <tbody>\n",
       "    <tr>\n",
       "      <th>6</th>\n",
       "      <td>[0.0, 0.022]</td>\n",
       "      <td>[1.25, 0.021]</td>\n",
       "      <td>359.999884800055</td>\n",
       "      <td>0</td>\n",
       "      <td>1.25000039999994</td>\n",
       "    </tr>\n",
       "    <tr>\n",
       "      <th>7</th>\n",
       "      <td>[1.25, 0.021]</td>\n",
       "      <td>[2.5, 0.104]</td>\n",
       "      <td>359.209001850504</td>\n",
       "      <td>1.25275256934480</td>\n",
       "      <td>1.25275256934480</td>\n",
       "    </tr>\n",
       "    <tr>\n",
       "      <th>8</th>\n",
       "      <td>[2.5, 0.104]</td>\n",
       "      <td>[3.75, 0.186]</td>\n",
       "      <td>359.227886320591</td>\n",
       "      <td>2.50537342526019</td>\n",
       "      <td>1.25268671263010</td>\n",
       "    </tr>\n",
       "    <tr>\n",
       "      <th>9</th>\n",
       "      <td>[3.75, 0.186]</td>\n",
       "      <td>[5.0, 0.351]</td>\n",
       "      <td>356.904079254300</td>\n",
       "      <td>3.78252891595028</td>\n",
       "      <td>1.26084297198343</td>\n",
       "    </tr>\n",
       "    <tr>\n",
       "      <th>10</th>\n",
       "      <td>[5.0, 0.351]</td>\n",
       "      <td>[6.25, 0.515]</td>\n",
       "      <td>356.941016356896</td>\n",
       "      <td>5.04284998785409</td>\n",
       "      <td>1.26071249696352</td>\n",
       "    </tr>\n",
       "    <tr>\n",
       "      <th>11</th>\n",
       "      <td>[6.25, 0.515]</td>\n",
       "      <td>[7.5, 0.762]</td>\n",
       "      <td>353.171104467539</td>\n",
       "      <td>6.37084962936656</td>\n",
       "      <td>1.27416992587331</td>\n",
       "    </tr>\n",
       "  </tbody>\n",
       "</table>\n",
       "</div>"
      ],
      "text/plain": [
       "               X1             X2             alpha        VoidRadius  \\\n",
       "6    [0.0, 0.022]  [1.25, 0.021]  359.999884800055                 0   \n",
       "7   [1.25, 0.021]   [2.5, 0.104]  359.209001850504  1.25275256934480   \n",
       "8    [2.5, 0.104]  [3.75, 0.186]  359.227886320591  2.50537342526019   \n",
       "9   [3.75, 0.186]   [5.0, 0.351]  356.904079254300  3.78252891595028   \n",
       "10   [5.0, 0.351]  [6.25, 0.515]  356.941016356896  5.04284998785409   \n",
       "11  [6.25, 0.515]   [7.5, 0.762]  353.171104467539  6.37084962936656   \n",
       "\n",
       "       couroneRadius  \n",
       "6   1.25000039999994  \n",
       "7   1.25275256934480  \n",
       "8   1.25268671263010  \n",
       "9   1.26084297198343  \n",
       "10  1.26071249696352  \n",
       "11  1.27416992587331  "
      ]
     },
     "execution_count": 77,
     "metadata": {},
     "output_type": "execute_result"
    }
   ],
   "source": [
    "from ConeComputations import *\n",
    "import pandas as pd\n",
    "pd.set_option(\"display.precision\", 2)\n",
    "df = pd.DataFrame(  columns =  [\"X1\", \"X2\", \"alpha\",\"VoidRadius\",\"couroneRadius\"])\n",
    "\n",
    "for i in range(nb,len(X)-1):\n",
    "    X1=[round(X[i],3),round(Ysol[i],3)]\n",
    "    X2=[round(X[i+1],3),round(Ysol[i+1],3)]\n",
    "    df.loc[i] = [X1,X2,alpha(X1,X2)*180/pi,VoidRadius(X1,X2),couroneRadius(X1,X2)]\n",
    "    \n",
    "\n",
    "df"
   ]
  },
  {
   "cell_type": "code",
   "execution_count": null,
   "id": "60a00bce",
   "metadata": {},
   "outputs": [],
   "source": [
    "ax = plt.axes(autoscale_on=False,xlim= {-2,2},ylim= {0,  5})\n",
    "\n",
    "ax.plot(X,Y)\n",
    "plt.grid()\n",
    "S*=10\n",
    "for i in range(len(X)):#range(int(len(X)/2),int(len(X))):\n",
    "    #ax.arrow(X[i], Y[i], int(NY[i]&R.x)/int(sqrt(int(NY[i]&R.x)**2+int( NY[i]&R.y)**2)),int( NY[i]&R.y)/int(sqrt(int(NY[i]&R.x)**2+int( NY[i]&R.y)**2)))\n",
    "    ax.arrow(X[i], Y[i], float(NY[i]&R.x),float( NY[i]&R.y))\n",
    "    t=2*(NY[i]&S)*NY[i]/(NY[i]&NY[i])-S\n",
    "    t/=sqrt(t&t)/100\n",
    "    ax.arrow(X[i], Y[i],float(t&R.x),float(t&R.y),color='red')\n",
    "    #ax.arrow(X[i], Y[i],int(S&R.x),int(S&R.y),color='green')\n",
    "    \n",
    "    print ((t))"
   ]
  }
 ],
 "metadata": {
  "kernelspec": {
   "display_name": "Python 3 (ipykernel)",
   "language": "python",
   "name": "python3"
  },
  "language_info": {
   "codemirror_mode": {
    "name": "ipython",
    "version": 3
   },
   "file_extension": ".py",
   "mimetype": "text/x-python",
   "name": "python",
   "nbconvert_exporter": "python",
   "pygments_lexer": "ipython3",
   "version": "3.9.5"
  }
 },
 "nbformat": 4,
 "nbformat_minor": 5
}
